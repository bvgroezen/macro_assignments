{
 "cells": [
  {
   "cell_type": "markdown",
   "metadata": {},
   "source": [
    "In this assignment, we consider the labour market.\n",
    "\n"
   ]
  },
  {
   "cell_type": "code",
   "execution_count": 1,
   "metadata": {
    "collapsed": true
   },
   "outputs": [],
   "source": [
    "from scipy import optimize,arange\n",
    "from numpy import array\n",
    "import matplotlib.pyplot as plt\n",
    "%matplotlib inline"
   ]
  },
  {
   "cell_type": "markdown",
   "metadata": {},
   "source": [
    "\n",
    "# production function\n",
    "\n"
   ]
  },
  {
   "cell_type": "markdown",
   "metadata": {},
   "source": [
    "We use a standard CES production function:\n",
    "\n",
    "$$\n",
    "y = (\\alpha K^\\gamma + (1-\\alpha) L^\\gamma)^{1/\\gamma}\n",
    "$$\n",
    "\n",
    "From this production function we derive labour demand. We also specify labour supply.\n",
    "\n"
   ]
  },
  {
   "cell_type": "code",
   "execution_count": 2,
   "metadata": {
    "collapsed": true
   },
   "outputs": [],
   "source": [
    "alpha = 0.25\n",
    "beta = 0.5\n",
    "K = 1\n",
    "\n",
    "def production_function(K,L,gamma):\n",
    "    return (alpha*K**gamma + (1-alpha)*L**gamma)**(1/gamma)\n",
    "\n",
    "def labour_demand(gamma,real_wage):\n",
    "    labour =  optimize.fminbound(lambda l: -(production_function(K,l,gamma)-real_wage*l),0,100,full_output=1)\n",
    "    return labour[0]\n",
    "\n",
    "def labour_supply(real_wage):\n",
    "    return real_wage**beta"
   ]
  },
  {
   "cell_type": "markdown",
   "metadata": {},
   "source": [
    "Now we can plot labour demand and supply as a function of the real wage $w/p$.\n",
    "\n"
   ]
  },
  {
   "cell_type": "code",
   "execution_count": 3,
   "metadata": {
    "collapsed": false
   },
   "outputs": [
    {
     "data": {
      "text/plain": [
       "<matplotlib.legend.Legend at 0x106b8eba8>"
      ]
     },
     "execution_count": 3,
     "metadata": {},
     "output_type": "execute_result"
    },
    {
     "data": {
      "image/png": "[encoded data removed]",
      "text/plain": [
       "<matplotlib.figure.Figure at 0x10e2b2a90>"
      ]
     },
     "metadata": {},
     "output_type": "display_data"
    }
   ],
   "source": [
    "gamma = -10\n",
    "\n",
    "range_realwage = arange(0.001,1.0,0.0001)\n",
    "range_demand = [labour_demand(gamma,w) for w in range_realwage]\n",
    "range_supply = [labour_supply(w) for w in range_realwage]\n",
    "plt.style.use('seaborn')\n",
    "plt.clf()\n",
    "plt.plot(range_realwage,range_demand, label = '$L^D$')\n",
    "plt.plot(range_realwage,range_supply, label = '$L^S$')\n",
    "plt.xlabel('$w/p$')\n",
    "plt.ylabel('$L$')\n",
    "plt.legend()"
   ]
  },
  {
   "cell_type": "markdown",
   "metadata": {},
   "source": [
    "We can solve for the equilibrium value.\n",
    "\n"
   ]
  },
  {
   "cell_type": "code",
   "execution_count": 4,
   "metadata": {
    "collapsed": false
   },
   "outputs": [
    {
     "data": {
      "text/plain": [
       "array([ 0.86949312])"
      ]
     },
     "execution_count": 4,
     "metadata": {},
     "output_type": "execute_result"
    }
   ],
   "source": [
    "initial_guess = 0.8\n",
    "optimize.fsolve(lambda w: labour_demand(gamma,w)-labour_supply(w), initial_guess)"
   ]
  },
  {
   "cell_type": "markdown",
   "metadata": {},
   "source": [
    "---\n",
    "\n",
    "**Exercise**\n",
    "\n",
    "Calculate equilibrium output $y$.\n",
    "\n",
    "---\n",
    "\n"
   ]
  },
  {
   "cell_type": "markdown",
   "metadata": {},
   "source": [
    "\n",
    "# Out of equilibrium\n",
    "\n"
   ]
  },
  {
   "cell_type": "markdown",
   "metadata": {},
   "source": [
    "Assume that the nominal wage $W$ is fixed. We would like to plot labour $L$ and output $y$ as a function of $p$.\n",
    "\n"
   ]
  },
  {
   "cell_type": "code",
   "execution_count": 5,
   "metadata": {
    "collapsed": true
   },
   "outputs": [],
   "source": [
    "W = 0.01\n",
    "\n",
    "def labour_out_of_equilibrium(p,gamma):\n",
    "    l = min(labour_demand(gamma,W/p), labour_supply(W/p))\n",
    "    return l"
   ]
  },
  {
   "cell_type": "markdown",
   "metadata": {},
   "source": [
    "---\n",
    "\n",
    "**Exercise**\n",
    "\n",
    "1.  explain the code above.\n",
    "2.  plot output $y$ as a function of $p$.\n",
    "\n",
    "---\n",
    "\n"
   ]
  },
  {
   "cell_type": "markdown",
   "metadata": {},
   "source": [
    "\n",
    "# Taxation\n",
    "\n"
   ]
  },
  {
   "cell_type": "markdown",
   "metadata": {},
   "source": [
    "In this framework, we can introduce taxation. With a social security tax $t_{worker}$, labour supply gets the following form.\n",
    "\n"
   ]
  },
  {
   "cell_type": "code",
   "execution_count": 6,
   "metadata": {
    "collapsed": true
   },
   "outputs": [],
   "source": [
    "def labour_supply_t(real_wage,t):\n",
    "    return ((1-t_worker)*w/p)"
   ]
  },
  {
   "cell_type": "code",
   "execution_count": null,
   "metadata": {
    "collapsed": true
   },
   "outputs": [],
   "source": []
  }
 ],
 "metadata": {
  "kernelspec": {
   "display_name": "Python [default]",
   "language": "python",
   "name": "python3"
  },
  "language_info": {
   "codemirror_mode": {
    "name": "ipython",
    "version": 3
   },
   "file_extension": ".py",
   "mimetype": "text/x-python",
   "name": "python",
   "nbconvert_exporter": "python",
   "pygments_lexer": "ipython3",
   "version": "3.5.2"
  },
  "org": null
 },
 "nbformat": 4,
 "nbformat_minor": 0
}
